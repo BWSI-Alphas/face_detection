{
  "nbformat": 4,
  "nbformat_minor": 0,
  "metadata": {
    "colab": {
      "provenance": []
    },
    "kernelspec": {
      "name": "python3",
      "display_name": "Python 3"
    },
    "language_info": {
      "name": "python"
    }
  },
  "cells": [
    {
      "cell_type": "code",
      "execution_count": 7,
      "metadata": {
        "id": "VhYeX5CsRH4c"
      },
      "outputs": [],
      "source": [
        "import os\n",
        "import random\n",
        "import numpy as np\n",
        "from matplotlib import pyplot as plt\n",
        "import cv2\n",
        "import re"
      ]
    },
    {
      "cell_type": "code",
      "source": [
        "!git clone https://github.com/BWSI-Home-Security/face_detection"
      ],
      "metadata": {
        "colab": {
          "base_uri": "https://localhost:8080/"
        },
        "id": "pHlEUJ60Tupd",
        "outputId": "2090767f-f10b-409d-dd05-0e6b6eb261b1"
      },
      "execution_count": 5,
      "outputs": [
        {
          "output_type": "stream",
          "name": "stdout",
          "text": [
            "Cloning into 'face_detection'...\n",
            "remote: Enumerating objects: 14701, done.\u001b[K\n",
            "remote: Counting objects: 100% (1246/1246), done.\u001b[K\n",
            "remote: Compressing objects: 100% (1218/1218), done.\u001b[K\n",
            "remote: Total 14701 (delta 35), reused 1229 (delta 23), pack-reused 13455\u001b[K\n",
            "Receiving objects: 100% (14701/14701), 203.37 MiB | 40.27 MiB/s, done.\n",
            "Resolving deltas: 100% (36/36), done.\n",
            "Updating files: 100% (14660/14660), done.\n"
          ]
        }
      ]
    },
    {
      "cell_type": "code",
      "source": [
        "# Change directory to the cloned repository\n",
        "# Navigate to the repository directory\n",
        "%cd face_detection\n",
        "\n",
        "# Verify the current working directory\n",
        "print(\"Current working directory:\", os.getcwd())"
      ],
      "metadata": {
        "colab": {
          "base_uri": "https://localhost:8080/"
        },
        "id": "iaa4iHTLUCnU",
        "outputId": "80728e1f-1d6f-42d5-f2ba-7d2f5d5b6f89"
      },
      "execution_count": 6,
      "outputs": [
        {
          "output_type": "stream",
          "name": "stdout",
          "text": [
            "/content/face_detection\n",
            "Current working directory: /content/face_detection\n"
          ]
        }
      ]
    },
    {
      "cell_type": "code",
      "source": [
        "# Import tensorflow dependencies - Functional API\n",
        "from tensorflow.keras.models import Model\n",
        "from tensorflow.keras.layers import Layer, Conv2D, Dense, MaxPooling2D, Input, Flatten\n",
        "import tensorflow as tf"
      ],
      "metadata": {
        "id": "_5WPucqVTAoL"
      },
      "execution_count": null,
      "outputs": []
    },
    {
      "cell_type": "code",
      "source": [
        "# Avoid OOM errors by setting GPU Memory Consumption Growth\n",
        "gpus = tf.config.experimental.list_physical_devices('GPU')\n",
        "for gpu in gpus:\n",
        "    tf.config.experimental.set_memory_growth(gpu, True)"
      ],
      "metadata": {
        "id": "ARKjlsRxTCN8"
      },
      "execution_count": null,
      "outputs": []
    },
    {
      "cell_type": "code",
      "source": [
        "# Verify the working directory\n",
        "current_dir = os.getcwd()\n",
        "print(f\"Current working directory: {current_dir}\")"
      ],
      "metadata": {
        "id": "IOuTwnYrTRpj"
      },
      "execution_count": null,
      "outputs": []
    }
  ]
}