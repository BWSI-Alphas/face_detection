{
  "nbformat": 4,
  "nbformat_minor": 0,
  "metadata": {
    "colab": {
      "provenance": []
    },
    "kernelspec": {
      "name": "python3",
      "display_name": "Python 3"
    },
    "language_info": {
      "name": "python"
    }
  },
  "cells": [
    {
      "cell_type": "code",
      "execution_count": 2,
      "metadata": {
        "id": "VhYeX5CsRH4c"
      },
      "outputs": [],
      "source": [
        "import os\n",
        "import random\n",
        "import numpy as np\n",
        "from matplotlib import pyplot as plt\n",
        "import cv2\n",
        "import re"
      ]
    },
    {
      "cell_type": "code",
      "source": [
        "!git clone https://github.com/BWSI-Home-Security/face_detection"
      ],
      "metadata": {
        "colab": {
          "base_uri": "https://localhost:8080/"
        },
        "id": "pHlEUJ60Tupd",
        "outputId": "690af13e-596e-4daa-ed58-ba073bcd4555"
      },
      "execution_count": 3,
      "outputs": [
        {
          "output_type": "stream",
          "name": "stdout",
          "text": [
            "Cloning into 'face_detection'...\n",
            "remote: Enumerating objects: 14706, done.\u001b[K\n",
            "remote: Counting objects: 100% (1251/1251), done.\u001b[K\n",
            "remote: Compressing objects: 100% (1222/1222), done.\u001b[K\n",
            "remote: Total 14706 (delta 37), reused 1233 (delta 24), pack-reused 13455\u001b[K\n",
            "Receiving objects: 100% (14706/14706), 203.37 MiB | 14.94 MiB/s, done.\n",
            "Resolving deltas: 100% (38/38), done.\n",
            "Updating files: 100% (14659/14659), done.\n"
          ]
        }
      ]
    },
    {
      "cell_type": "code",
      "source": [
        "# Change directory to the cloned repository\n",
        "# Navigate to the repository directory\n",
        "%cd face_detection\n",
        "\n",
        "# Verify the current working directory\n",
        "print(\"Current working directory:\", os.getcwd())"
      ],
      "metadata": {
        "colab": {
          "base_uri": "https://localhost:8080/"
        },
        "id": "iaa4iHTLUCnU",
        "outputId": "2d14ae25-cd4f-47af-82e2-4691caa9f08d"
      },
      "execution_count": 4,
      "outputs": [
        {
          "output_type": "stream",
          "name": "stdout",
          "text": [
            "/content/face_detection\n",
            "Current working directory: /content/face_detection\n"
          ]
        }
      ]
    },
    {
      "cell_type": "code",
      "source": [
        "# Import tensorflow dependencies - Functional API\n",
        "from tensorflow.keras.models import Model\n",
        "from tensorflow.keras.layers import Layer, Conv2D, Dense, MaxPooling2D, Input, Flatten\n",
        "import tensorflow as tf"
      ],
      "metadata": {
        "id": "_5WPucqVTAoL"
      },
      "execution_count": 5,
      "outputs": []
    },
    {
      "cell_type": "code",
      "source": [
        "# Avoid OOM errors by setting GPU Memory Consumption Growth\n",
        "gpus = tf.config.experimental.list_physical_devices('GPU')\n",
        "for gpu in gpus:\n",
        "    tf.config.experimental.set_memory_growth(gpu, True)"
      ],
      "metadata": {
        "id": "ARKjlsRxTCN8"
      },
      "execution_count": 6,
      "outputs": []
    },
    {
      "cell_type": "code",
      "source": [
        "# Verify the working directory\n",
        "current_dir = os.getcwd()\n",
        "print(f\"Current working directory: {current_dir}\")\n",
        "POS_PATH = os.path.join(current_dir, 'data', 'positive')\n",
        "NEG_PATH = os.path.join(current_dir, 'data', 'negative')\n",
        "ANC_PATH = os.path.join(current_dir, 'data', 'anchor')"
      ],
      "metadata": {
        "id": "IOuTwnYrTRpj",
        "colab": {
          "base_uri": "https://localhost:8080/"
        },
        "outputId": "07765933-723d-4a48-b52e-476d2e91f296"
      },
      "execution_count": 7,
      "outputs": [
        {
          "output_type": "stream",
          "name": "stdout",
          "text": [
            "Current working directory: /content/face_detection\n"
          ]
        }
      ]
    },
    {
      "cell_type": "markdown",
      "source": [
        "# Load and Pre Process images"
      ],
      "metadata": {
        "id": "DE3TseR5XKPK"
      }
    },
    {
      "cell_type": "markdown",
      "source": [
        "Get Image Directories"
      ],
      "metadata": {
        "id": "hnOnPGTCXS0Z"
      }
    },
    {
      "cell_type": "code",
      "source": [
        "anchor = tf.data.Dataset.list_files(ANC_PATH + '/*.jpg').take(500)\n",
        "positive = tf.data.Dataset.list_files(POS_PATH+'/*.jpg').take(500)\n",
        "negative = tf.data.Dataset.list_files(NEG_PATH+'/*.jpg').take(500)"
      ],
      "metadata": {
        "id": "uy_3YEO0Xz9m"
      },
      "execution_count": 8,
      "outputs": []
    },
    {
      "cell_type": "code",
      "source": [
        "dir_test = anchor.as_numpy_iterator()"
      ],
      "metadata": {
        "id": "9DP6LkJyzhcy"
      },
      "execution_count": 9,
      "outputs": []
    },
    {
      "cell_type": "code",
      "source": [
        "dir_test.next()"
      ],
      "metadata": {
        "id": "09hy85hVzm7j",
        "outputId": "a05e9c96-c832-4f3d-d7ba-58ef5935a24e",
        "colab": {
          "base_uri": "https://localhost:8080/"
        }
      },
      "execution_count": 10,
      "outputs": [
        {
          "output_type": "execute_result",
          "data": {
            "text/plain": [
              "b'/content/face_detection/data/anchor/ed9b5dc9-45e2-11ef-be58-6018954978e7.jpg'"
            ]
          },
          "metadata": {},
          "execution_count": 10
        }
      ]
    }
  ]
}